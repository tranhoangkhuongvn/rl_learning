{
 "cells": [
  {
   "cell_type": "code",
   "execution_count": 1,
   "metadata": {},
   "outputs": [],
   "source": [
    "import numpy as np\n",
    "\n",
    "T = np.array([[0.9, 0.1],\n",
    "              [0.5, 0.5]])"
   ]
  },
  {
   "cell_type": "code",
   "execution_count": 2,
   "metadata": {},
   "outputs": [],
   "source": [
    "#T after 3 steps \n",
    "T_3 = np.linalg.matrix_power(T, 3)"
   ]
  },
  {
   "cell_type": "code",
   "execution_count": 3,
   "metadata": {},
   "outputs": [],
   "source": [
    "T_50 = np.linalg.matrix_power(T, 50)\n",
    "\n",
    "T_100 = np.linalg.matrix_power(T, 100)\n"
   ]
  },
  {
   "cell_type": "code",
   "execution_count": 4,
   "metadata": {},
   "outputs": [
    {
     "data": {
      "text/plain": [
       "array([[0.9, 0.1],\n",
       "       [0.5, 0.5]])"
      ]
     },
     "execution_count": 4,
     "metadata": {},
     "output_type": "execute_result"
    }
   ],
   "source": [
    "T"
   ]
  },
  {
   "cell_type": "code",
   "execution_count": 5,
   "metadata": {},
   "outputs": [
    {
     "name": "stdout",
     "output_type": "stream",
     "text": [
      "[[0.844 0.156]\n",
      " [0.78  0.22 ]]\n",
      "[[0.83333333 0.16666667]\n",
      " [0.83333333 0.16666667]]\n",
      "[[0.83333333 0.16666667]\n",
      " [0.83333333 0.16666667]]\n"
     ]
    }
   ],
   "source": [
    "print(T_3)\n",
    "print(T_50)\n",
    "print(T_100)"
   ]
  },
  {
   "cell_type": "code",
   "execution_count": 9,
   "metadata": {},
   "outputs": [
    {
     "data": {
      "text/plain": [
       "array([[1., 0.]])"
      ]
     },
     "execution_count": 9,
     "metadata": {},
     "output_type": "execute_result"
    }
   ],
   "source": [
    "v = np.array([[1.0, 0.0]])\n",
    "v"
   ]
  },
  {
   "cell_type": "code",
   "execution_count": 15,
   "metadata": {},
   "outputs": [
    {
     "data": {
      "text/html": [
       "<img src=\"Image/two_states_MDP.png\" width=\"700\" height=\"700\"/>"
      ],
      "text/plain": [
       "<IPython.core.display.Image object>"
      ]
     },
     "execution_count": 15,
     "metadata": {},
     "output_type": "execute_result"
    }
   ],
   "source": [
    "from IPython.display import Image\n",
    "from IPython.core.display import HTML \n",
    "Image(url= \"Image/two_states_MDP.png\", width=700, height=700)"
   ]
  },
  {
   "cell_type": "code",
   "execution_count": 17,
   "metadata": {},
   "outputs": [
    {
     "name": "stdout",
     "output_type": "stream",
     "text": [
      "After 1 iteration:  [[0.9 0.1]]\n",
      "After 3 iterations:  [[0.844 0.156]]\n",
      "After 50 iterations:  [[0.83333333 0.16666667]]\n",
      "After 100 iterations:  [[0.83333333 0.16666667]]\n"
     ]
    }
   ],
   "source": [
    "print('After 1 iteration: ', np.dot(v,T))\n",
    "print('After 3 iterations: ',np.dot(v,T_3))\n",
    "print('After 50 iterations: ', np.dot(v,T_50))\n",
    "print('After 100 iterations: ', np.dot(v,T_100))"
   ]
  },
  {
   "cell_type": "code",
   "execution_count": 18,
   "metadata": {},
   "outputs": [
    {
     "data": {
      "text/html": [
       "<img src=\"Image/transition_iteration.png\" width=\"700\" height=\"700\"/>"
      ],
      "text/plain": [
       "<IPython.core.display.Image object>"
      ]
     },
     "execution_count": 18,
     "metadata": {},
     "output_type": "execute_result"
    }
   ],
   "source": [
    "Image(url= \"Image/transition_iteration.png\", width=700, height=700)"
   ]
  },
  {
   "cell_type": "markdown",
   "metadata": {},
   "source": [
    "### After 3 iterations, the probability that the agent is in state So is the sum of these probability:"
   ]
  },
  {
   "cell_type": "code",
   "execution_count": 19,
   "metadata": {},
   "outputs": [
    {
     "data": {
      "text/plain": [
       "0.8440000000000001"
      ]
     },
     "execution_count": 19,
     "metadata": {},
     "output_type": "execute_result"
    }
   ],
   "source": [
    "0.729 + 0.045 + 0.045 + 0.025"
   ]
  },
  {
   "cell_type": "code",
   "execution_count": 20,
   "metadata": {},
   "outputs": [],
   "source": [
    "#With different starting vector v:\n",
    "v = np.array([[0.5, 0.5]])"
   ]
  },
  {
   "cell_type": "code",
   "execution_count": 21,
   "metadata": {},
   "outputs": [
    {
     "name": "stdout",
     "output_type": "stream",
     "text": [
      "After 1 iteration:  [[0.7 0.3]]\n",
      "After 3 iterations:  [[0.812 0.188]]\n",
      "After 50 iterations:  [[0.83333333 0.16666667]]\n",
      "After 100 iterations:  [[0.83333333 0.16666667]]\n"
     ]
    }
   ],
   "source": [
    "print('After 1 iteration: ', np.dot(v,T))\n",
    "print('After 3 iterations: ',np.dot(v,T_3))\n",
    "print('After 50 iterations: ', np.dot(v,T_50))\n",
    "print('After 100 iterations: ', np.dot(v,T_100))"
   ]
  },
  {
   "cell_type": "markdown",
   "metadata": {},
   "source": [
    "#### Even thought the initial vector is different, the probability that the agent ended up in So and S1 \n",
    "#### remains the same after 50 or more iterations \n",
    "#### This confirms the Markovian property of the MDP. As time goes by, the state transition dynamics play more role in determining \n",
    "#### the final probability, regardless of the initial position."
   ]
  },
  {
   "cell_type": "markdown",
   "metadata": {},
   "source": [
    "# Bellman equation\n",
    "#### The utility of the state history h is:\n",
    "\n",
    "$U_h = R(s_0) + \\gamma R(s_1) + \\gamma^2R(s_2) + ... + \\gamma^n R(s_n)$\n",
    "\n"
   ]
  },
  {
   "cell_type": "markdown",
   "metadata": {},
   "source": [
    "#### The utility of a single state s or the state value function of s is:\n",
    "$U(s) = \\mathbb{E}[\\sum\\limits_{t=0}^{\\infty}\\gamma^tR(s_t)] $ \n",
    "\n",
    "#### The utility can be calculated based on the subsequent states and state transition\n",
    "$U(s) = R(s) + \\gamma \\max\\limits_a \\sum\\limits_{s'}T(s, a, s') U (s') $ "
   ]
  },
  {
   "cell_type": "code",
   "execution_count": 23,
   "metadata": {},
   "outputs": [
    {
     "data": {
      "text/html": [
       "<img src=\"Image/state_utility_1.png\" width=\"700\" height=\"700\"/>"
      ],
      "text/plain": [
       "<IPython.core.display.Image object>"
      ]
     },
     "execution_count": 23,
     "metadata": {},
     "output_type": "execute_result"
    }
   ],
   "source": [
    "Image(url= \"Image/state_utility_1.png\", width=700, height=700)"
   ]
  },
  {
   "cell_type": "code",
   "execution_count": 24,
   "metadata": {},
   "outputs": [
    {
     "data": {
      "text/html": [
       "<img src=\"Image/state_utility_2.png\" width=\"700\" height=\"700\"/>"
      ],
      "text/plain": [
       "<IPython.core.display.Image object>"
      ]
     },
     "execution_count": 24,
     "metadata": {},
     "output_type": "execute_result"
    }
   ],
   "source": [
    "Image(url= \"Image/state_utility_2.png\", width=700, height=700)"
   ]
  },
  {
   "cell_type": "markdown",
   "metadata": {},
   "source": [
    "$U(s) = R(s) + \\gamma \\max\\limits_a \\sum\\limits_{s'}T(s, a, s') U (s') $ \n",
    "\n",
    "\n",
    "\n",
    "$\\pi^{*}(s) = \\underset{a}{\\operatorname{argmax}}\\sum\\limits_{s'} T(s,a,s') U(s')$"
   ]
  },
  {
   "cell_type": "code",
   "execution_count": null,
   "metadata": {},
   "outputs": [],
   "source": []
  }
 ],
 "metadata": {
  "kernelspec": {
   "display_name": "Python 3",
   "language": "python",
   "name": "python3"
  },
  "language_info": {
   "codemirror_mode": {
    "name": "ipython",
    "version": 3
   },
   "file_extension": ".py",
   "mimetype": "text/x-python",
   "name": "python",
   "nbconvert_exporter": "python",
   "pygments_lexer": "ipython3",
   "version": "3.7.4"
  }
 },
 "nbformat": 4,
 "nbformat_minor": 2
}
