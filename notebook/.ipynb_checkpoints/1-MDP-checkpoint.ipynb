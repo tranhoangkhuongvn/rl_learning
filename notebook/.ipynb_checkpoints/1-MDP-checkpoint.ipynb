{
 "cells": [
  {
   "cell_type": "code",
   "execution_count": 84,
   "metadata": {},
   "outputs": [],
   "source": [
    "import numpy as np\n",
    "import matplotlib.pyplot as plt\n",
    "\n",
    "T = np.array([[0.9, 0.1],\n",
    "              [0.5, 0.5]])"
   ]
  },
  {
   "cell_type": "code",
   "execution_count": 2,
   "metadata": {},
   "outputs": [],
   "source": [
    "#T after 3 steps \n",
    "T_3 = np.linalg.matrix_power(T, 3)"
   ]
  },
  {
   "cell_type": "code",
   "execution_count": 3,
   "metadata": {},
   "outputs": [],
   "source": [
    "T_50 = np.linalg.matrix_power(T, 50)\n",
    "\n",
    "T_100 = np.linalg.matrix_power(T, 100)\n"
   ]
  },
  {
   "cell_type": "code",
   "execution_count": 4,
   "metadata": {},
   "outputs": [
    {
     "data": {
      "text/plain": [
       "array([[0.9, 0.1],\n",
       "       [0.5, 0.5]])"
      ]
     },
     "execution_count": 4,
     "metadata": {},
     "output_type": "execute_result"
    }
   ],
   "source": [
    "T"
   ]
  },
  {
   "cell_type": "code",
   "execution_count": 5,
   "metadata": {},
   "outputs": [
    {
     "name": "stdout",
     "output_type": "stream",
     "text": [
      "[[0.844 0.156]\n",
      " [0.78  0.22 ]]\n",
      "[[0.83333333 0.16666667]\n",
      " [0.83333333 0.16666667]]\n",
      "[[0.83333333 0.16666667]\n",
      " [0.83333333 0.16666667]]\n"
     ]
    }
   ],
   "source": [
    "print(T_3)\n",
    "print(T_50)\n",
    "print(T_100)"
   ]
  },
  {
   "cell_type": "code",
   "execution_count": 9,
   "metadata": {},
   "outputs": [
    {
     "data": {
      "text/plain": [
       "array([[1., 0.]])"
      ]
     },
     "execution_count": 9,
     "metadata": {},
     "output_type": "execute_result"
    }
   ],
   "source": [
    "v = np.array([[1.0, 0.0]])\n",
    "v"
   ]
  },
  {
   "cell_type": "code",
   "execution_count": 15,
   "metadata": {},
   "outputs": [
    {
     "data": {
      "text/html": [
       "<img src=\"Image/two_states_MDP.png\" width=\"700\" height=\"700\"/>"
      ],
      "text/plain": [
       "<IPython.core.display.Image object>"
      ]
     },
     "execution_count": 15,
     "metadata": {},
     "output_type": "execute_result"
    }
   ],
   "source": [
    "from IPython.display import Image\n",
    "from IPython.core.display import HTML \n",
    "Image(url= \"Image/two_states_MDP.png\", width=700, height=700)"
   ]
  },
  {
   "cell_type": "code",
   "execution_count": 17,
   "metadata": {},
   "outputs": [
    {
     "name": "stdout",
     "output_type": "stream",
     "text": [
      "After 1 iteration:  [[0.9 0.1]]\n",
      "After 3 iterations:  [[0.844 0.156]]\n",
      "After 50 iterations:  [[0.83333333 0.16666667]]\n",
      "After 100 iterations:  [[0.83333333 0.16666667]]\n"
     ]
    }
   ],
   "source": [
    "print('After 1 iteration: ', np.dot(v,T))\n",
    "print('After 3 iterations: ',np.dot(v,T_3))\n",
    "print('After 50 iterations: ', np.dot(v,T_50))\n",
    "print('After 100 iterations: ', np.dot(v,T_100))"
   ]
  },
  {
   "cell_type": "code",
   "execution_count": 18,
   "metadata": {},
   "outputs": [
    {
     "data": {
      "text/html": [
       "<img src=\"Image/transition_iteration.png\" width=\"700\" height=\"700\"/>"
      ],
      "text/plain": [
       "<IPython.core.display.Image object>"
      ]
     },
     "execution_count": 18,
     "metadata": {},
     "output_type": "execute_result"
    }
   ],
   "source": [
    "Image(url= \"Image/transition_iteration.png\", width=700, height=700)"
   ]
  },
  {
   "cell_type": "markdown",
   "metadata": {},
   "source": [
    "### After 3 iterations, the probability that the agent is in state So is the sum of these probability:"
   ]
  },
  {
   "cell_type": "code",
   "execution_count": 19,
   "metadata": {},
   "outputs": [
    {
     "data": {
      "text/plain": [
       "0.8440000000000001"
      ]
     },
     "execution_count": 19,
     "metadata": {},
     "output_type": "execute_result"
    }
   ],
   "source": [
    "0.729 + 0.045 + 0.045 + 0.025"
   ]
  },
  {
   "cell_type": "code",
   "execution_count": 20,
   "metadata": {},
   "outputs": [],
   "source": [
    "#With different starting vector v:\n",
    "v = np.array([[0.5, 0.5]])"
   ]
  },
  {
   "cell_type": "code",
   "execution_count": 21,
   "metadata": {},
   "outputs": [
    {
     "name": "stdout",
     "output_type": "stream",
     "text": [
      "After 1 iteration:  [[0.7 0.3]]\n",
      "After 3 iterations:  [[0.812 0.188]]\n",
      "After 50 iterations:  [[0.83333333 0.16666667]]\n",
      "After 100 iterations:  [[0.83333333 0.16666667]]\n"
     ]
    }
   ],
   "source": [
    "print('After 1 iteration: ', np.dot(v,T))\n",
    "print('After 3 iterations: ',np.dot(v,T_3))\n",
    "print('After 50 iterations: ', np.dot(v,T_50))\n",
    "print('After 100 iterations: ', np.dot(v,T_100))"
   ]
  },
  {
   "cell_type": "markdown",
   "metadata": {},
   "source": [
    "#### Even thought the initial vector is different, the probability that the agent ended up in So and S1 \n",
    "#### remains the same after 50 or more iterations \n",
    "#### This confirms the Markovian property of the MDP. As time goes by, the state transition dynamics play more role in determining \n",
    "#### the final probability, regardless of the initial position."
   ]
  },
  {
   "cell_type": "markdown",
   "metadata": {},
   "source": [
    "# Bellman equation\n",
    "#### The utility of the state history h is:\n",
    "\n",
    "$U_h = R(s_0) + \\gamma R(s_1) + \\gamma^2R(s_2) + ... + \\gamma^n R(s_n)$\n",
    "\n"
   ]
  },
  {
   "cell_type": "markdown",
   "metadata": {},
   "source": [
    "#### The utility of a single state s or the state value function of s is:\n",
    "$U(s) = \\mathbb{E}[\\sum\\limits_{t=0}^{\\infty}\\gamma^tR(s_t)] $ \n",
    "\n",
    "#### The utility can be calculated based on the subsequent states and state transition\n",
    "$U(s) = R(s) + \\gamma \\max\\limits_a \\sum\\limits_{s'}T(s, a, s') U (s') $ "
   ]
  },
  {
   "cell_type": "code",
   "execution_count": 23,
   "metadata": {},
   "outputs": [
    {
     "data": {
      "text/html": [
       "<img src=\"Image/state_utility_1.png\" width=\"700\" height=\"700\"/>"
      ],
      "text/plain": [
       "<IPython.core.display.Image object>"
      ]
     },
     "execution_count": 23,
     "metadata": {},
     "output_type": "execute_result"
    }
   ],
   "source": [
    "Image(url= \"Image/state_utility_1.png\", width=700, height=700)"
   ]
  },
  {
   "cell_type": "code",
   "execution_count": 24,
   "metadata": {},
   "outputs": [
    {
     "data": {
      "text/html": [
       "<img src=\"Image/state_utility_2.png\" width=\"700\" height=\"700\"/>"
      ],
      "text/plain": [
       "<IPython.core.display.Image object>"
      ]
     },
     "execution_count": 24,
     "metadata": {},
     "output_type": "execute_result"
    }
   ],
   "source": [
    "Image(url= \"Image/state_utility_2.png\", width=700, height=700)"
   ]
  },
  {
   "cell_type": "markdown",
   "metadata": {},
   "source": [
    "$U(s) = R(s) + \\gamma \\max\\limits_a \\sum\\limits_{s'}T(s, a, s') U (s') $ \n",
    "\n",
    "\n",
    "\n",
    "$\\pi^{*}(s) = \\underset{a}{\\operatorname{argmax}}\\sum\\limits_{s'} T(s,a,s') U(s')$"
   ]
  },
  {
   "cell_type": "code",
   "execution_count": 68,
   "metadata": {},
   "outputs": [],
   "source": [
    "def return_state_utility(v, T, u, reward, gamma):\n",
    "    \"\"\"\n",
    "    @param v: state vector \n",
    "    @param T: transition matrix\n",
    "    @param u: utility vector \n",
    "    @param reward\n",
    "    @param gamma: discount factor \n",
    "    \"\"\"\n",
    "    \n",
    "    action_array = np.zeros(4)\n",
    "    for action in range(4):\n",
    "        #print('np.dot(v, T)', np.dot(v, T[:,:,action]))\n",
    "        action_array[action] = np.sum(np.multiply(u, np.dot(v, T[:,:,action])))\n",
    "    \n",
    "    \n",
    "    return reward + gamma * np.max(action_array)    "
   ]
  },
  {
   "cell_type": "code",
   "execution_count": 42,
   "metadata": {},
   "outputs": [
    {
     "data": {
      "text/plain": [
       "array([[0., 0., 0., 0., 0., 0., 0., 0., 1., 0., 0., 0.]])"
      ]
     },
     "execution_count": 42,
     "metadata": {},
     "output_type": "execute_result"
    }
   ],
   "source": [
    "v = np.array([[0.0, 0.0, 0.0, 0.0,\n",
    "               0.0, 0.0, 0.0, 0.0,\n",
    "               1.0, 0.0, 0.0, 0.0]])\n",
    "v"
   ]
  },
  {
   "cell_type": "code",
   "execution_count": 43,
   "metadata": {},
   "outputs": [],
   "source": [
    "#Load transition matrix\n",
    "T = np.load('T.npy')"
   ]
  },
  {
   "cell_type": "code",
   "execution_count": 44,
   "metadata": {},
   "outputs": [
    {
     "data": {
      "text/plain": [
       "array([[[0.9, 0.9, 0.1, 0.1],\n",
       "        [0.1, 0. , 0.1, 0.8],\n",
       "        [0. , 0. , 0. , 0. ],\n",
       "        [0. , 0. , 0. , 0. ],\n",
       "        [0. , 0.1, 0.8, 0.1],\n",
       "        [0. , 0. , 0. , 0. ],\n",
       "        [0. , 0. , 0. , 0. ],\n",
       "        [0. , 0. , 0. , 0. ],\n",
       "        [0. , 0. , 0. , 0. ],\n",
       "        [0. , 0. , 0. , 0. ],\n",
       "        [0. , 0. , 0. , 0. ],\n",
       "        [0. , 0. , 0. , 0. ]],\n",
       "\n",
       "       [[0.1, 0.8, 0.1, 0. ],\n",
       "        [0.8, 0.2, 0.8, 0.2],\n",
       "        [0.1, 0. , 0.1, 0.8],\n",
       "        [0. , 0. , 0. , 0. ],\n",
       "        [0. , 0. , 0. , 0. ],\n",
       "        [0. , 0. , 0. , 0. ],\n",
       "        [0. , 0. , 0. , 0. ],\n",
       "        [0. , 0. , 0. , 0. ],\n",
       "        [0. , 0. , 0. , 0. ],\n",
       "        [0. , 0. , 0. , 0. ],\n",
       "        [0. , 0. , 0. , 0. ],\n",
       "        [0. , 0. , 0. , 0. ]],\n",
       "\n",
       "       [[0. , 0. , 0. , 0. ],\n",
       "        [0.1, 0.8, 0.1, 0. ],\n",
       "        [0.8, 0.1, 0. , 0.1],\n",
       "        [0.1, 0. , 0.1, 0.8],\n",
       "        [0. , 0. , 0. , 0. ],\n",
       "        [0. , 0. , 0. , 0. ],\n",
       "        [0. , 0.1, 0.8, 0.1],\n",
       "        [0. , 0. , 0. , 0. ],\n",
       "        [0. , 0. , 0. , 0. ],\n",
       "        [0. , 0. , 0. , 0. ],\n",
       "        [0. , 0. , 0. , 0. ],\n",
       "        [0. , 0. , 0. , 0. ]],\n",
       "\n",
       "       [[0. , 0. , 0. , 0. ],\n",
       "        [0. , 0. , 0. , 0. ],\n",
       "        [0. , 0. , 0. , 0. ],\n",
       "        [0. , 0. , 0. , 0. ],\n",
       "        [0. , 0. , 0. , 0. ],\n",
       "        [0. , 0. , 0. , 0. ],\n",
       "        [0. , 0. , 0. , 0. ],\n",
       "        [0. , 0. , 0. , 0. ],\n",
       "        [0. , 0. , 0. , 0. ],\n",
       "        [0. , 0. , 0. , 0. ],\n",
       "        [0. , 0. , 0. , 0. ],\n",
       "        [0. , 0. , 0. , 0. ]],\n",
       "\n",
       "       [[0.8, 0.1, 0. , 0.1],\n",
       "        [0. , 0. , 0. , 0. ],\n",
       "        [0. , 0. , 0. , 0. ],\n",
       "        [0. , 0. , 0. , 0. ],\n",
       "        [0.2, 0.8, 0.2, 0.8],\n",
       "        [0. , 0. , 0. , 0. ],\n",
       "        [0. , 0. , 0. , 0. ],\n",
       "        [0. , 0. , 0. , 0. ],\n",
       "        [0. , 0.1, 0.8, 0.1],\n",
       "        [0. , 0. , 0. , 0. ],\n",
       "        [0. , 0. , 0. , 0. ],\n",
       "        [0. , 0. , 0. , 0. ]],\n",
       "\n",
       "       [[0. , 0. , 0. , 0. ],\n",
       "        [0. , 0. , 0. , 0. ],\n",
       "        [0. , 0. , 0. , 0. ],\n",
       "        [0. , 0. , 0. , 0. ],\n",
       "        [0. , 0. , 0. , 0. ],\n",
       "        [0. , 0. , 0. , 0. ],\n",
       "        [0. , 0. , 0. , 0. ],\n",
       "        [0. , 0. , 0. , 0. ],\n",
       "        [0. , 0. , 0. , 0. ],\n",
       "        [0. , 0. , 0. , 0. ],\n",
       "        [0. , 0. , 0. , 0. ],\n",
       "        [0. , 0. , 0. , 0. ]],\n",
       "\n",
       "       [[0. , 0. , 0. , 0. ],\n",
       "        [0. , 0. , 0. , 0. ],\n",
       "        [0.8, 0.1, 0. , 0.1],\n",
       "        [0. , 0. , 0. , 0. ],\n",
       "        [0. , 0. , 0. , 0. ],\n",
       "        [0. , 0. , 0. , 0. ],\n",
       "        [0.1, 0.8, 0.1, 0. ],\n",
       "        [0.1, 0. , 0.1, 0.8],\n",
       "        [0. , 0. , 0. , 0. ],\n",
       "        [0. , 0. , 0. , 0. ],\n",
       "        [0. , 0.1, 0.8, 0.1],\n",
       "        [0. , 0. , 0. , 0. ]],\n",
       "\n",
       "       [[0. , 0. , 0. , 0. ],\n",
       "        [0. , 0. , 0. , 0. ],\n",
       "        [0. , 0. , 0. , 0. ],\n",
       "        [0. , 0. , 0. , 0. ],\n",
       "        [0. , 0. , 0. , 0. ],\n",
       "        [0. , 0. , 0. , 0. ],\n",
       "        [0. , 0. , 0. , 0. ],\n",
       "        [0. , 0. , 0. , 0. ],\n",
       "        [0. , 0. , 0. , 0. ],\n",
       "        [0. , 0. , 0. , 0. ],\n",
       "        [0. , 0. , 0. , 0. ],\n",
       "        [0. , 0. , 0. , 0. ]],\n",
       "\n",
       "       [[0. , 0. , 0. , 0. ],\n",
       "        [0. , 0. , 0. , 0. ],\n",
       "        [0. , 0. , 0. , 0. ],\n",
       "        [0. , 0. , 0. , 0. ],\n",
       "        [0.8, 0.1, 0. , 0.1],\n",
       "        [0. , 0. , 0. , 0. ],\n",
       "        [0. , 0. , 0. , 0. ],\n",
       "        [0. , 0. , 0. , 0. ],\n",
       "        [0.1, 0.9, 0.9, 0.1],\n",
       "        [0.1, 0. , 0.1, 0.8],\n",
       "        [0. , 0. , 0. , 0. ],\n",
       "        [0. , 0. , 0. , 0. ]],\n",
       "\n",
       "       [[0. , 0. , 0. , 0. ],\n",
       "        [0. , 0. , 0. , 0. ],\n",
       "        [0. , 0. , 0. , 0. ],\n",
       "        [0. , 0. , 0. , 0. ],\n",
       "        [0. , 0. , 0. , 0. ],\n",
       "        [0. , 0. , 0. , 0. ],\n",
       "        [0. , 0. , 0. , 0. ],\n",
       "        [0. , 0. , 0. , 0. ],\n",
       "        [0.1, 0.8, 0.1, 0. ],\n",
       "        [0.8, 0.2, 0.8, 0.2],\n",
       "        [0.1, 0. , 0.1, 0.8],\n",
       "        [0. , 0. , 0. , 0. ]],\n",
       "\n",
       "       [[0. , 0. , 0. , 0. ],\n",
       "        [0. , 0. , 0. , 0. ],\n",
       "        [0. , 0. , 0. , 0. ],\n",
       "        [0. , 0. , 0. , 0. ],\n",
       "        [0. , 0. , 0. , 0. ],\n",
       "        [0. , 0. , 0. , 0. ],\n",
       "        [0.8, 0.1, 0. , 0.1],\n",
       "        [0. , 0. , 0. , 0. ],\n",
       "        [0. , 0. , 0. , 0. ],\n",
       "        [0.1, 0.8, 0.1, 0. ],\n",
       "        [0. , 0.1, 0.8, 0.1],\n",
       "        [0.1, 0. , 0.1, 0.8]],\n",
       "\n",
       "       [[0. , 0. , 0. , 0. ],\n",
       "        [0. , 0. , 0. , 0. ],\n",
       "        [0. , 0. , 0. , 0. ],\n",
       "        [0. , 0. , 0. , 0. ],\n",
       "        [0. , 0. , 0. , 0. ],\n",
       "        [0. , 0. , 0. , 0. ],\n",
       "        [0. , 0. , 0. , 0. ],\n",
       "        [0.8, 0.1, 0. , 0.1],\n",
       "        [0. , 0. , 0. , 0. ],\n",
       "        [0. , 0. , 0. , 0. ],\n",
       "        [0.1, 0.8, 0.1, 0. ],\n",
       "        [0.1, 0.1, 0.9, 0.9]]])"
      ]
     },
     "execution_count": 44,
     "metadata": {},
     "output_type": "execute_result"
    }
   ],
   "source": [
    "T"
   ]
  },
  {
   "cell_type": "code",
   "execution_count": 45,
   "metadata": {},
   "outputs": [],
   "source": [
    "#Utility vector - take for granted here, given by an oracle\n",
    "u = np.array([[\n",
    "    0.812, 0.868, 0.918,   1.0,\n",
    "    0.762,   0.0, 0.660,  -1.0,\n",
    "    0.705, 0.655, 0.611, 0.388]])"
   ]
  },
  {
   "cell_type": "code",
   "execution_count": 46,
   "metadata": {},
   "outputs": [],
   "source": [
    "reward = -0.04\n",
    "gamma = 1.0"
   ]
  },
  {
   "cell_type": "code",
   "execution_count": 47,
   "metadata": {},
   "outputs": [
    {
     "name": "stdout",
     "output_type": "stream",
     "text": [
      "np.dot(v, T) [[0.  0.  0.  0.  0.8 0.  0.  0.  0.1 0.1 0.  0. ]]\n",
      "np.dot(v, T) [[0.  0.  0.  0.  0.1 0.  0.  0.  0.9 0.  0.  0. ]]\n",
      "np.dot(v, T) [[0.  0.  0.  0.  0.  0.  0.  0.  0.9 0.1 0.  0. ]]\n",
      "np.dot(v, T) [[0.  0.  0.  0.  0.1 0.  0.  0.  0.1 0.8 0.  0. ]]\n",
      "Utility of state (1,1): 0.7056\n"
     ]
    }
   ],
   "source": [
    " #Use the Bellman equation to find the utility of state (1,1)\n",
    "utility_11 = return_state_utility(v, T, u, reward, gamma)\n",
    "print(\"Utility of state (1,1): \" + str(utility_11))"
   ]
  },
  {
   "cell_type": "markdown",
   "metadata": {},
   "source": [
    "#### Use value iteration to derive state value function"
   ]
  },
  {
   "cell_type": "code",
   "execution_count": 79,
   "metadata": {},
   "outputs": [],
   "source": [
    "total_states = 12\n",
    "gamma = 0.999\n",
    "iteration = 0\n",
    "epsilon = 0.01 \n",
    "\n",
    "graph_list = list()\n",
    "\n",
    "T = np.load('T.npy')\n",
    "\n",
    "r = np.array([[\n",
    "    -0.04, -0.04, -0.04,  +1.0,\n",
    "    -0.04,   0.0, -0.04,  -1.0,\n",
    "    -0.04, -0.04, -0.04, -0.04\n",
    "]])"
   ]
  },
  {
   "cell_type": "code",
   "execution_count": 80,
   "metadata": {},
   "outputs": [
    {
     "data": {
      "text/plain": [
       "-0.04"
      ]
     },
     "execution_count": 80,
     "metadata": {},
     "output_type": "execute_result"
    }
   ],
   "source": [
    "r[0][1]"
   ]
  },
  {
   "cell_type": "code",
   "execution_count": 81,
   "metadata": {},
   "outputs": [],
   "source": [
    "#Utility vectors\n",
    "u = np.array([0.0, 0.0, 0.0,  0.0,\n",
    "              0.0, 0.0, 0.0,  0.0,\n",
    "              0.0, 0.0, 0.0,  0.0])\n",
    "\n",
    "u1 = np.array([0.0, 0.0, 0.0,  0.0,\n",
    "               0.0, 0.0, 0.0,  0.0,\n",
    "               0.0, 0.0, 0.0,  0.0])"
   ]
  },
  {
   "cell_type": "code",
   "execution_count": 82,
   "metadata": {},
   "outputs": [
    {
     "name": "stdout",
     "output_type": "stream",
     "text": [
      "=================== FINAL RESULT ==================\n",
      "Iterations: 26\n",
      "Delta: 9.511968687869743e-06\n",
      "Gamma: 0.999\n",
      "Epsilon: 0.01\n",
      "===================================================\n",
      "[0.80796341 0.86539911 0.91653199 1.        ]\n",
      "[ 0.75696613  0.          0.65836281 -1.        ]\n",
      "[0.69968168 0.64881721 0.60471137 0.3814863 ]\n",
      "===================================================\n"
     ]
    }
   ],
   "source": [
    "while True:\n",
    "    delta = 0\n",
    "    u = u1.copy()\n",
    "    iteration += 1\n",
    "    graph_list.append(u)\n",
    "    \n",
    "    for s in range(total_states):\n",
    "        reward = r[0][s]\n",
    "        # print('Reward {} at state {}'.format(reward, s))\n",
    "        v = np.zeros((1, total_states))\n",
    "        v[0, s] = 1.0 \n",
    "        u1[s] = return_state_utility(v, T, u, reward, gamma)\n",
    "        delta = max(delta, np.abs(u1[s] - u[s]))\n",
    "    \n",
    "    \n",
    "    if delta < epsilon * (1 - gamma) / gamma:\n",
    "        print(\"=================== FINAL RESULT ==================\")\n",
    "        print(\"Iterations: \" + str(iteration))\n",
    "        print(\"Delta: \" + str(delta))\n",
    "        print(\"Gamma: \" + str(gamma))\n",
    "        print(\"Epsilon: \" + str(epsilon))\n",
    "        print(\"===================================================\")\n",
    "        print(u[0:4])\n",
    "        print(u[4:8])\n",
    "        print(u[8:12])\n",
    "        print(\"===================================================\")\n",
    "        break"
   ]
  },
  {
   "cell_type": "code",
   "execution_count": 83,
   "metadata": {},
   "outputs": [
    {
     "data": {
      "text/plain": [
       "[array([0., 0., 0., 0., 0., 0., 0., 0., 0., 0., 0., 0.]),\n",
       " array([-0.04, -0.04, -0.04,  1.  , -0.04,  0.  , -0.04, -1.  , -0.04,\n",
       "        -0.04, -0.04, -0.04]),\n",
       " array([-0.07996 , -0.07996 ,  0.751208,  1.      , -0.07996 ,  0.      ,\n",
       "        -0.07996 , -1.      , -0.07996 , -0.07996 , -0.07996 , -0.07996 ]),\n",
       " array([-0.11988004,  0.54438943,  0.82625768,  1.        , -0.11988004,\n",
       "         0.        ,  0.45247743, -1.        , -0.11988004, -0.11988004,\n",
       "        -0.11988004, -0.11988004]),\n",
       " array([ 0.371124  ,  0.72911414,  0.88694564,  1.        , -0.15976016,\n",
       "         0.        ,  0.56564763, -1.        , -0.15976016, -0.15976016,\n",
       "         0.29766793, -0.15976016]),\n",
       " array([ 0.56382327,  0.81452396,  0.90431407,  1.        ,  0.22468222,\n",
       "         0.        ,  0.62545515, -1.        , -0.1996004 ,  0.16597613,\n",
       "         0.38014551,  0.08203617]),\n",
       " array([ 0.68973925,  0.84546969,  0.91202394,  1.        ,  0.45549906,\n",
       "         0.        ,  0.64531077, -1.        ,  0.13620696,  0.29697432,\n",
       "         0.48464019,  0.1721077 ]),\n",
       " array([ 0.75010868,  0.85781438,  0.91477774,  1.        ,  0.60224832,\n",
       "         0.        ,  0.65345608, -1.        ,  0.36730966,  0.40665991,\n",
       "         0.52259366,  0.264618  ]),\n",
       " array([ 0.78066572,  0.86248168,  0.91586656,  1.        ,  0.67981607,\n",
       "         0.        ,  0.65647063, -1.        ,  0.51863642,  0.4589075 ,\n",
       "         0.54930276,  0.30419219]),\n",
       " array([ 0.79519749,  0.86428439,  0.91627649,  1.        ,  0.71973529,\n",
       "         0.        ,  0.65764197, -1.        ,  0.60096564,  0.49069249,\n",
       "         0.56088499,  0.32949157]),\n",
       " array([ 0.80207787,  0.86497219,  0.91643445,  1.        ,  0.73932495,\n",
       "         0.        ,  0.6580866 , -1.        ,  0.64426909,  0.5383321 ,\n",
       "         0.56752385,  0.34127549]),\n",
       " array([ 0.80527191,  0.86523586,  0.91649465,  1.        ,  0.74873776,\n",
       "         0.        ,  0.65825727, -1.        ,  0.66901036,  0.58245861,\n",
       "         0.57381561,  0.34775848]),\n",
       " array([ 0.80674206,  0.86533665,  0.91651772,  1.        ,  0.75317112,\n",
       "         0.        ,  0.65832243, -1.        ,  0.68341297,  0.61104831,\n",
       "         0.5790079 ,  0.35343451]),\n",
       " array([ 0.80741238,  0.86537522,  0.91652653,  1.        ,  0.75523185,\n",
       "         0.        ,  0.65834737, -1.        ,  0.69125104,  0.6282711 ,\n",
       "         0.58248312,  0.35815122]),\n",
       " array([ 0.80771604,  0.86538997,  0.9165299 ,  1.        ,  0.7561793 ,\n",
       "         0.        ,  0.65835691, -1.        ,  0.69540155,  0.6379764 ,\n",
       "         0.58607323,  0.36139981]),\n",
       " array([ 0.80785281,  0.86539561,  0.91653119,  1.        ,  0.75661128,\n",
       "         0.        ,  0.65836055, -1.        ,  0.69754295,  0.64323261,\n",
       "         0.59418931,  0.36459356]),\n",
       " array([ 0.80791414,  0.86539777,  0.91653169,  1.        ,  0.7568069 ,\n",
       "         0.        ,  0.65836195, -1.        ,  0.69862721,  0.6459942 ,\n",
       "         0.59920123,  0.37139899]),\n",
       " array([ 0.80794153,  0.8653986 ,  0.91653187,  1.        ,  0.756895  ,\n",
       "         0.        ,  0.65836248, -1.        ,  0.69916775,  0.64741251,\n",
       "         0.60190913,  0.37608438]),\n",
       " array([ 0.80795373,  0.86539891,  0.91653195,  1.        ,  0.75693449,\n",
       "         0.        ,  0.65836269, -1.        ,  0.69943385,  0.64812789,\n",
       "         0.60331321,  0.3787166 ]),\n",
       " array([ 0.80795914,  0.86539903,  0.91653197,  1.        ,  0.75695213,\n",
       "         0.        ,  0.65836276, -1.        ,  0.69956346,  0.64848348,\n",
       "         0.60402523,  0.38010171]),\n",
       " array([ 0.80796154,  0.86539908,  0.91653198,  1.        ,  0.75695998,\n",
       "         0.        ,  0.65836279, -1.        ,  0.69962603,  0.64865812,\n",
       "         0.60438056,  0.38080912]),\n",
       " array([ 0.80796261,  0.8653991 ,  0.91653199,  1.        ,  0.75696347,\n",
       "         0.        ,  0.6583628 , -1.        ,  0.69965601,  0.64874302,\n",
       "         0.60455563,  0.38116378]),\n",
       " array([ 0.80796307,  0.8653991 ,  0.91653199,  1.        ,  0.75696502,\n",
       "         0.        ,  0.65836281, -1.        ,  0.69967027,  0.64878394,\n",
       "         0.60464097,  0.38133912]),\n",
       " array([ 0.80796328,  0.86539911,  0.91653199,  1.        ,  0.7569657 ,\n",
       "         0.        ,  0.65836281, -1.        ,  0.69967702,  0.64880351,\n",
       "         0.6046822 ,  0.38142484]),\n",
       " array([ 0.80796337,  0.86539911,  0.91653199,  1.        ,  0.756966  ,\n",
       "         0.        ,  0.65836281, -1.        ,  0.69968019,  0.64881281,\n",
       "         0.60470196,  0.38146636]),\n",
       " array([ 0.80796341,  0.86539911,  0.91653199,  1.        ,  0.75696613,\n",
       "         0.        ,  0.65836281, -1.        ,  0.69968168,  0.64881721,\n",
       "         0.60471137,  0.3814863 ])]"
      ]
     },
     "execution_count": 83,
     "metadata": {},
     "output_type": "execute_result"
    }
   ],
   "source": [
    "graph_list"
   ]
  },
  {
   "cell_type": "code",
   "execution_count": 86,
   "metadata": {},
   "outputs": [
    {
     "data": {
      "image/png": "[encoded data removed]",
      "text/plain": [
       "<Figure size 432x288 with 1 Axes>"
      ]
     },
     "metadata": {
      "needs_background": "light"
     },
     "output_type": "display_data"
    }
   ],
   "source": [
    "def generate_graph(utility_list):\n",
    "    \"\"\"Given a list of utility arrays (one for each iteration)\n",
    "       it generates a matplotlib graph and save it as 'output.jpg'\n",
    "    \"\"\"\n",
    "    name_list = ('(1,3)', '(2,3)', '(3,3)', '+1', '(1,2)', '#', '(3,2)', '-1', '(1,1)', '(2,1)', '(3,1)', '(4,1)')\n",
    "    color_list = ('cyan', 'teal', 'blue', 'green', 'magenta', 'black', 'yellow', 'red', 'brown', 'pink', 'gray', 'sienna')\n",
    "    counter = 0\n",
    "    index_vector = np.arange(len(utility_list))\n",
    "    for state in range(12):\n",
    "        state_list = list()\n",
    "        for utility_array in utility_list:\n",
    "             state_list.append(utility_array[state])\n",
    "        plt.plot(index_vector, state_list, color=color_list[state], label=name_list[state])  \n",
    "        counter += 1\n",
    "    #Adjust the legend and the axis\n",
    "    plt.legend(loc='upper center', bbox_to_anchor=(0.5, 0.4), ncol=3, fancybox=True, shadow=True)\n",
    "    plt.ylim((-1.1, +1.1))\n",
    "    plt.xlim((1, len(utility_list)-1))\n",
    "    plt.ylabel('Utility', fontsize=15)\n",
    "    plt.xlabel('Iterations', fontsize=15)\n",
    "    plt.savefig(\"./output.jpg\", dpi=500)\n",
    "\n",
    "generate_graph(graph_list)"
   ]
  },
  {
   "cell_type": "code",
   "execution_count": 87,
   "metadata": {},
   "outputs": [],
   "source": [
    "def return_policy_evaluation(p, u, r, T, gamma):\n",
    "    \"\"\"\n",
    "    @param p policy vector\n",
    "    @param u utility vector\n",
    "    @param r reward vector\n",
    "    @param T transition matrix\n",
    "    @param gamma discount factor\n",
    "    @return the utility vector u\n",
    "    \"\"\"\n",
    "    for s in range(total_states):\n",
    "        if not np.isnan(p[s]):\n",
    "            v = np.zeros((1, 12))\n",
    "            v[0, s] = 1.0\n",
    "            action = int(p[s])\n",
    "            u[s] = r[s] + gamma * np.sum(np.multiply(u, np.dot(v, T[:,:,action])))\n",
    "    \n",
    "    return u"
   ]
  },
  {
   "cell_type": "code",
   "execution_count": 88,
   "metadata": {},
   "outputs": [],
   "source": [
    "def return_expected_action(u, T, v):\n",
    "    \"\"\"\n",
    "    @param u utility vector\n",
    "    @param T transition matrix\n",
    "    @param v starting vector\n",
    "    @return expected action (int)\n",
    "    \"\"\"\n",
    "    actions_array = np.zeros(4)\n",
    "    for action in range(4):\n",
    "        actions_array[action] = np.sum(np.multiply(u, np.dot(v, T[:,:,action])))\n",
    "    \n",
    "    return np.argmax(actions_array)"
   ]
  },
  {
   "cell_type": "code",
   "execution_count": 94,
   "metadata": {},
   "outputs": [],
   "source": [
    "def print_policy(p, shape):\n",
    "    \"\"\"\n",
    "    Print the policy actions using symbols:\n",
    "    ^, v, <, > up, down, left, right\n",
    "    * terminal states\n",
    "    # obstacles\n",
    "    \"\"\"\n",
    "    counter = 0\n",
    "    policy_string = \"\"\n",
    "    for row in range(shape[0]):\n",
    "        for col in range(shape[1]):\n",
    "            if (p[counter] == -1):\n",
    "                policy_string += \" * \"\n",
    "            elif (p[counter] == 0):\n",
    "                policy_string += \" ^ \"\n",
    "            elif (p[counter] == 1):\n",
    "                policy_string += \" < \"\n",
    "            elif (p[counter] == 2):\n",
    "                policy_string += \" v \"\n",
    "            elif (p[counter] == 3):\n",
    "                policy_string += \" > \"\n",
    "            elif(np.isnan(p[counter])): \n",
    "                policy_string += \" #  \"\n",
    "            \n",
    "            counter += 1\n",
    "        policy_string += '\\n'\n",
    "    \n",
    "    print(policy_string)"
   ]
  },
  {
   "cell_type": "code",
   "execution_count": 95,
   "metadata": {},
   "outputs": [],
   "source": [
    "gamma = 0.999\n",
    "epsilon = 0.0001\n",
    "iteration = 0\n",
    "T = np.load('T.npy')\n",
    "\n",
    "#Generate the first policy randomly\n",
    "# NaN=Nothing, -1=Terminal, 0=Up, 1=Left, 2=Down, 3=Right\n",
    "p = np.random.randint(0, 4, size=(12)).astype(np.float32)\n",
    "p[5] = np.NaN\n",
    "p[3] = p[7] = -1\n",
    "\n",
    "#Utility vectors\n",
    "u = np.array([0.0, 0.0, 0.0,  0.0,\n",
    "              0.0, 0.0, 0.0,  0.0,\n",
    "              0.0, 0.0, 0.0,  0.0])\n",
    "#Reward vector\n",
    "r = np.array([-0.04, -0.04, -0.04,  +1.0,\n",
    "              -0.04,   0.0, -0.04,  -1.0,\n",
    "              -0.04, -0.04, -0.04, -0.04])"
   ]
  },
  {
   "cell_type": "code",
   "execution_count": 96,
   "metadata": {},
   "outputs": [
    {
     "name": "stdout",
     "output_type": "stream",
     "text": [
      " <  <  >  * \n",
      " ^  #   <  * \n",
      " >  ^  <  v \n",
      "\n",
      " <  >  >  * \n",
      " ^  #   ^  * \n",
      " v  <  ^  v \n",
      "\n",
      " >  >  >  * \n",
      " ^  #   ^  * \n",
      " <  >  ^  < \n",
      "\n",
      " >  >  >  * \n",
      " ^  #   ^  * \n",
      " ^  >  ^  < \n",
      "\n",
      " >  >  >  * \n",
      " ^  #   ^  * \n",
      " ^  >  ^  < \n",
      "\n",
      " >  >  >  * \n",
      " ^  #   ^  * \n",
      " ^  >  ^  < \n",
      "\n",
      " >  >  >  * \n",
      " ^  #   ^  * \n",
      " ^  <  ^  < \n",
      "\n",
      " >  >  >  * \n",
      " ^  #   ^  * \n",
      " ^  <  ^  < \n",
      "\n",
      " >  >  >  * \n",
      " ^  #   ^  * \n",
      " ^  <  ^  < \n",
      "\n",
      " >  >  >  * \n",
      " ^  #   ^  * \n",
      " ^  <  <  < \n",
      "\n",
      " >  >  >  * \n",
      " ^  #   ^  * \n",
      " ^  <  <  < \n",
      "\n",
      " >  >  >  * \n",
      " ^  #   ^  * \n",
      " ^  <  <  < \n",
      "\n",
      " >  >  >  * \n",
      " ^  #   ^  * \n",
      " ^  <  <  < \n",
      "\n",
      " >  >  >  * \n",
      " ^  #   ^  * \n",
      " ^  <  <  < \n",
      "\n",
      " >  >  >  * \n",
      " ^  #   ^  * \n",
      " ^  <  <  < \n",
      "\n",
      " >  >  >  * \n",
      " ^  #   ^  * \n",
      " ^  <  <  < \n",
      "\n",
      " >  >  >  * \n",
      " ^  #   ^  * \n",
      " ^  <  <  < \n",
      "\n",
      " >  >  >  * \n",
      " ^  #   ^  * \n",
      " ^  <  <  < \n",
      "\n",
      " >  >  >  * \n",
      " ^  #   ^  * \n",
      " ^  <  <  < \n",
      "\n",
      " >  >  >  * \n",
      " ^  #   ^  * \n",
      " ^  <  <  < \n",
      "\n",
      " >  >  >  * \n",
      " ^  #   ^  * \n",
      " ^  <  <  < \n",
      "\n",
      "=================== FINAL RESULT ==================\n",
      "Iterations: 22\n",
      "Delta: 9.066696421422549e-08\n",
      "Gamma: 0.999\n",
      "Epsilon: 0.0001\n",
      "===================================================\n",
      "[0.80796344 0.86539911 0.91653199 1.        ]\n",
      "[ 0.75696624  0.          0.65836281 -1.        ]\n",
      "[0.69968295 0.64882105 0.60471972 0.38150427]\n",
      "===================================================\n",
      " >  >  >  * \n",
      " ^  #   ^  * \n",
      " ^  <  <  < \n",
      "\n",
      "===================================================\n"
     ]
    }
   ],
   "source": [
    "while True:\n",
    "    iteration += 1\n",
    "    u_0 = u.copy()\n",
    "    u = return_policy_evaluation(p, u, r, T, gamma)\n",
    "    delta = np.absolute(u - u_0).max()\n",
    "    if delta < epsilon * (1 - gamma)/gamma:\n",
    "        break \n",
    "        \n",
    "    for s in range(total_states):\n",
    "        if not np.isnan(p[s]) and not p[s] == -1:\n",
    "            v = np.zeros((1,12))\n",
    "            v[0, s] = 1.0\n",
    "            a = return_expected_action(u, T, v)\n",
    "            if a != p[s]:\n",
    "                p[s] = a \n",
    "            \n",
    "    print_policy(p, shape=(3,4))\n",
    "    \n",
    "print(\"=================== FINAL RESULT ==================\")\n",
    "print(\"Iterations: \" + str(iteration))\n",
    "print(\"Delta: \" + str(delta))\n",
    "print(\"Gamma: \" + str(gamma))\n",
    "print(\"Epsilon: \" + str(epsilon))\n",
    "print(\"===================================================\")\n",
    "print(u[0:4])\n",
    "print(u[4:8])\n",
    "print(u[8:12])\n",
    "print(\"===================================================\")\n",
    "print_policy(p, shape=(3,4))\n",
    "print(\"===================================================\")"
   ]
  },
  {
   "cell_type": "code",
   "execution_count": null,
   "metadata": {},
   "outputs": [],
   "source": []
  }
 ],
 "metadata": {
  "kernelspec": {
   "display_name": "Python 3",
   "language": "python",
   "name": "python3"
  },
  "language_info": {
   "codemirror_mode": {
    "name": "ipython",
    "version": 3
   },
   "file_extension": ".py",
   "mimetype": "text/x-python",
   "name": "python",
   "nbconvert_exporter": "python",
   "pygments_lexer": "ipython3",
   "version": "3.7.4"
  }
 },
 "nbformat": 4,
 "nbformat_minor": 2
}
